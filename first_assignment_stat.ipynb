{
 "cells": [
  {
   "cell_type": "markdown",
   "id": "df9570dc",
   "metadata": {},
   "source": [
    "# Statistical analysis on the first assignment #\n",
    "## Introduction ##\n",
    "In this notebook, I will perform statistical analysis on the first assignment of research track 1. \n",
    "I carried out a comparison between my algorithm (**1**) and the one proposed by the professor (**2**) regarding the average time to perform a whole lap of the circuit. \n",
    "I decided to perform a one tailed paired t-test. I took 30 different samples for each algorithm. This allows performing a t-test, since it requires normal distribution. Indeed for the Central Limit Theorem, if the number of sampling is higher than 30, we can consider the distribution as if it was normal.\n",
    "\n",
    "The paired t-test is used to compare two population means where we have two samples in which observations in one sample can be paired with observations in the other sample. In this specific case I'm performing a comparison between two different approaches applied to the same scenario to see if the first (**1**) is equal or better than the second (**2**)."
   ]
  },
  {
   "cell_type": "markdown",
   "id": "cd02b1f0",
   "metadata": {},
   "source": [
    "## My work ##\n",
    "### Null and alternative Hypothesis ###\n",
    "\n",
    "The first thing to do to conduct a statistical analysis is to make a null Hypothesis $H_0$ and an alternative Hypothesis $H_a$: $$H_0:\\mu_1 = \\mu_2$$ \n",
    "$$H_a:\\mu_1 < \\mu_2$$\n",
    "Where $\\mu_1$ is the mean of the samples of **Algorithm 1** and $\\mu_2$ is the mean of **Algorithm 2**.\n",
    "The alternative hypothesis suppose that algorithm (**1**) is better than algorithm (**2**) since the mean of the time required to complete one lap is lower than the second one.  \n",
    "\n",
    "The significance level chosen for this analysis was $\\alpha = 0.05$.\n",
    "     \n",
    "### Sampling and Data visualization ###\n",
    "\n",
    "After having defined the **null Hypothesis** and the **alternative hypothesis** I ran 30 times each algorithm, by modifying each time the circuit by adding, moving, or deleting the silver tokens in the middle of the path.\n",
    "\n",
    "Here follow the table with the data acquired:\n",
    "\n",
    "||s1|s2|s3|s4|s5|s6|s7|s8|s9|s10|s11|s12|s13|s14|s15|s16|s17|s18|s19|s20|s21|s22|s23|s24|s25|s26|s27|s28|s29|s30|\n",
    "|---|---|---|---|---|---|---|---|---|---|---|---|---|---|---|---|---|---|---|---|---|---|---|---|---|---|---|---|---|---|---|\n",
    "|**1**|1.29|1.30|1.24|1.25|1.27|1.57|1.29|1.23|1.22|1.26|1.26|1.34|1.23|1.21|1.21|1.20|1.21|1.12|1.15|1.09|1.08|1.05|1.30|1.32|1.36|1.40|1.41|1.46|1.48|1.25|\n",
    "|**2**|2.58|2.55|3.02|3.01|2.57|3.20|3.00|3.09|3.56|2.51|2.58|2.50|4.19|2.49|2.57|2.58|2.46|2.42|2.43|2.31|2.27|2.22|3.14|3.23|3.19|3.28|3.34|3.31|3.40|3.05|"
   ]
  },
  {
   "cell_type": "code",
   "execution_count": 38,
   "id": "242342fe",
   "metadata": {
    "ExecuteTime": {
     "end_time": "2022-05-27T09:14:37.190488Z",
     "start_time": "2022-05-27T09:14:36.708481Z"
    }
   },
   "outputs": [
    {
     "data": {
      "image/png": "[encoded data removed]",
      "text/plain": [
       "<Figure size 1440x360 with 2 Axes>"
      ]
     },
     "metadata": {
      "needs_background": "light"
     },
     "output_type": "display_data"
    }
   ],
   "source": [
    "import matplotlib.pyplot as plt\n",
    "import numpy as np\n",
    "import statistics\n",
    "\n",
    "alpha = 0.05\n",
    "my_algorithm =[1.29, 1.30, 1.24, 1.25, 1.27, 1.57, 1.29, 1.23, 1.22, 1.26, 1.26, 1.34, 1.23, 1.21, 1.21, 1.20, 1.21, 1.12, 1.15, 1.09, 1.08, 1.05, 1.30, 1.32, 1.36, 1.40, 1.41, 1.46, 1.48, 1.25]\n",
    "professors_algorithm=[2.58, 2.55, 3.02, 3.01, 2.57, 3.20, 3.00, 3.09, 3.56, 2.51, 2.58, 2.50, 4.19, 2.49, 2.57, 2.58, 2.46, 2.42, 2.43, 2.31, 2.27, 2.22, 3.14, 3.23, 3.19, 3.28, 3.34, 3.31, 3.40, 3.05]\n",
    "\n",
    "\n",
    "plt.figure(figsize=(20,5))\n",
    "plt1 = plt.subplot(1,2,1)\n",
    "plt2 = plt.subplot(1,2,2)\n",
    "\n",
    "\n",
    "plt1.hist(my_algorithm)\n",
    "plt1.axvline(statistics.mean(my_algorithm), color='r', linestyle='dashed', linewidth=2)\n",
    "\n",
    "\n",
    "plt2.hist(professors_algorithm)\n",
    "plt2.axvline(statistics.mean(professors_algorithm), color='r', linestyle='dashed', linewidth=2)\n",
    "plt.show()"
   ]
  },
  {
   "cell_type": "markdown",
   "id": "605fa2db",
   "metadata": {},
   "source": [
    "Here on the left it is shown the histogram with the frequency of the values of the samples for **Algorithm 1** while on the right the frequencies of the samples for **Algorithm 2**. In the histograms are shown approximated values of the frequencies.\n",
    "The two dashed read lines represents the mean of each distribution."
   ]
  },
  {
   "cell_type": "markdown",
   "id": "6cda70c9",
   "metadata": {},
   "source": [
    "## Performing a one-tailed paired t-test ##\n",
    "\n",
    "One simple method to perform a paired samples t-test is to use 'ttest_rel' function of the scipy.stats package.\n",
    "\n",
    "\n",
    "What I obtain as an output from the 'ttest_rel' function is:\n",
    "* t-vale;\n",
    "* p-value;\n",
    "\n",
    "According to the state of the art the p_value is the output for a two-tailed t-test, thus we must divide the p-value by 2 for our one-tailed test, before comparing it with the level of significance $\\alpha$. \n",
    " Our null hypothesi should be rejected if $\\frac{pvalue}{2}<\\alpha$. \n",
    " \n",
    " We can also use the t-value to state which algorithm is faster. Indeed t-value depends on the difference of the two means. If it's value is negative, it means that $\\mu_1 < \\mu_2$, since the algorithm perform the difference $\\mu_1 - \\mu_2$.\n",
    " "
   ]
  },
  {
   "cell_type": "code",
   "execution_count": 2,
   "id": "d5b20556",
   "metadata": {
    "ExecuteTime": {
     "end_time": "2022-05-27T07:43:06.362485Z",
     "start_time": "2022-05-27T07:43:05.332479Z"
    }
   },
   "outputs": [],
   "source": [
    "# use the following line if the scipy package is missing\n",
    "#!pip3 install scipy\n",
    "from IPython.display import HTML, display\n",
    "from scipy import stats\n",
    "from scipy.stats import ttest_rel"
   ]
  },
  {
   "cell_type": "code",
   "execution_count": 4,
   "id": "66151b27",
   "metadata": {
    "ExecuteTime": {
     "end_time": "2022-05-27T07:54:11.591323Z",
     "start_time": "2022-05-27T07:54:11.573180Z"
    }
   },
   "outputs": [
    {
     "data": {
      "text/html": [
       "<table><tr><td><h4>T-value:</h4></td><td><h4>-21.410803953482546</h4></td></tr><tr><td><h4>P-value:</h4></td><td><h4>0.0</h4></td></tr></table>"
      ],
      "text/plain": [
       "<IPython.core.display.HTML object>"
      ]
     },
     "metadata": {},
     "output_type": "display_data"
    }
   ],
   "source": [
    "#Function needed to display the table in which I put the results of the analysis\n",
    "def display_table(data):\n",
    "    html = \"<table>\"\n",
    "    for row in data:\n",
    "        html += \"<tr>\"\n",
    "        for field in row:\n",
    "            html += \"<td><h4>%s</h4></td>\"%(field)\n",
    "        html += \"</tr>\"\n",
    "    html += \"</table>\"\n",
    "    display(HTML(html))\n",
    "#calling ttest_rel function that returns t-value and p-value of the statistics\n",
    "t_value,p_value=stats.ttest_rel(my_algorithm, professors_algorithm)\n",
    "#since we are performing a one-tailed t-test we have to change the p-value obtained\n",
    "one_tailed_p_value=float(\"{:.6f}\".format(p_value/2)) \n",
    "data = [['T-value:',t_value],['P-value:', one_tailed_p_value]]\n",
    "display_table(data)"
   ]
  },
  {
   "cell_type": "markdown",
   "id": "e17a836e",
   "metadata": {},
   "source": [
    "In this statistics we find a t-value of -21.41 with a significance of 0. This means that there is no chance of a t-value less than -21.41 or more than 21.41, if this t-value would be zero in the population (i.e. no difference = equal means) "
   ]
  },
  {
   "cell_type": "markdown",
   "id": "9dfaa889",
   "metadata": {},
   "source": [
    "## Conclusions ##\n",
    "\n",
    "As we can see we obtained a p-value which is so close to the zero value that it can be approximated to it. In this case, since $\\frac{pvalue}{2} < \\alpha$ we reject the null hypothesis $H_0$ stating the equality of the two means. Then, under these assumption we accept the alternative hypothesis $H_a$ which states that the mean of the algorithm $\\mu_1$ is less than the mean of the algorithm proposed by the professor $\\mu_2$. This means that my algorithm is better in term of lap time than the other one."
   ]
  },
  {
   "cell_type": "code",
   "execution_count": null,
   "id": "6f934e39",
   "metadata": {},
   "outputs": [],
   "source": []
  }
 ],
 "metadata": {
  "hide_input": true,
  "kernelspec": {
   "display_name": "Python 3 (ipykernel)",
   "language": "python",
   "name": "python3"
  },
  "language_info": {
   "codemirror_mode": {
    "name": "ipython",
    "version": 3
   },
   "file_extension": ".py",
   "mimetype": "text/x-python",
   "name": "python",
   "nbconvert_exporter": "python",
   "pygments_lexer": "ipython3",
   "version": "3.8.5"
  },
  "toc": {
   "base_numbering": 1,
   "nav_menu": {},
   "number_sections": true,
   "sideBar": true,
   "skip_h1_title": false,
   "title_cell": "Table of Contents",
   "title_sidebar": "Contents",
   "toc_cell": false,
   "toc_position": {},
   "toc_section_display": true,
   "toc_window_display": false
  },
  "varInspector": {
   "cols": {
    "lenName": 16,
    "lenType": 16,
    "lenVar": 40
   },
   "kernels_config": {
    "python": {
     "delete_cmd_postfix": "",
     "delete_cmd_prefix": "del ",
     "library": "var_list.py",
     "varRefreshCmd": "print(var_dic_list())"
    },
    "r": {
     "delete_cmd_postfix": ") ",
     "delete_cmd_prefix": "rm(",
     "library": "var_list.r",
     "varRefreshCmd": "cat(var_dic_list()) "
    }
   },
   "types_to_exclude": [
    "module",
    "function",
    "builtin_function_or_method",
    "instance",
    "_Feature"
   ],
   "window_display": false
  }
 },
 "nbformat": 4,
 "nbformat_minor": 5
}
